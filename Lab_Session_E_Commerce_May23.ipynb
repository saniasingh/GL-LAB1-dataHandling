{
  "cells": [
    {
      "cell_type": "markdown",
      "id": "2c8f47d3",
      "metadata": {
        "id": "2c8f47d3"
      },
      "source": [
        "# Lab Session"
      ]
    },
    {
      "cell_type": "markdown",
      "id": "f637aba6",
      "metadata": {
        "id": "f637aba6"
      },
      "source": [
        "## <font color='blue'> Table Of Contents </font>\n",
        "- Problem Statement\n",
        "- Load required libraries\n",
        "- Connect to DB using mysql-connector-python package\n",
        "- Create database named `e_commerce`\n",
        "- Create tables and insert data into tables as specified in the question\n",
        "- Read all the questions and write sql queries to meet the objective"
      ]
    },
    {
      "cell_type": "markdown",
      "id": "1073fc90",
      "metadata": {
        "id": "1073fc90"
      },
      "source": [
        "## <font color='blue'> Problem Statement </font>\n",
        "###  An E-commerce website manages its data in the form of various tables.\n",
        "You need to create a Database called `e_commerce` and various tables in it. The tables needed and attributes which need to be in every table are given before hand. All you have to do is create tables with data in it and answer some of the questions that follows."
      ]
    },
    {
      "cell_type": "markdown",
      "id": "d9abe6c7",
      "metadata": {
        "id": "d9abe6c7"
      },
      "source": [
        "### Load Required Libraries"
      ]
    },
    {
      "cell_type": "code",
      "execution_count": 1,
      "id": "0178d08e",
      "metadata": {
        "id": "0178d08e"
      },
      "outputs": [],
      "source": [
        "import mysql.connector"
      ]
    },
    {
      "cell_type": "markdown",
      "id": "d7d7fd5c",
      "metadata": {
        "id": "d7d7fd5c"
      },
      "source": [
        "### Connect to DB using Mysql-connector-python package"
      ]
    },
    {
      "cell_type": "code",
      "execution_count": 3,
      "id": "ef7bef72",
      "metadata": {
        "id": "ef7bef72"
      },
      "outputs": [],
      "source": [
        "conn = mysql.connector.connect(\n",
        "    host=\"127.0.0.1\",\n",
        "    user=\"root\",\n",
        "    password=\"mysql@12357\",\n",
        ")\n",
        "cursor = conn.cursor()"
      ]
    },
    {
      "cell_type": "markdown",
      "id": "9d55e510",
      "metadata": {
        "id": "9d55e510"
      },
      "source": [
        "### You are required to create a database named 'e_commerce'"
      ]
    },
    {
      "cell_type": "code",
      "execution_count": 4,
      "id": "42a154f2",
      "metadata": {
        "id": "42a154f2"
      },
      "outputs": [],
      "source": [
        "cursor.execute(\"CREATE DATABASE e_commerce\")"
      ]
    },
    {
      "cell_type": "markdown",
      "id": "480dc986",
      "metadata": {
        "id": "480dc986"
      },
      "source": [
        "### Q1. Create tables for supplier, customer, category, product, productDetails, order, rating to store the data for the E-commerce with the schema definition given below.\n",
        "\n",
        "\n",
        "- **`supplier`**(SUPP_ID int primary key, SUPP_NAME varchar(50), SUPP_CITY varchar(50), SUPP_PHONE varchar(10))\n",
        "\n",
        "\n",
        "- **`customer`** (CUS_ID INT NOT NULL, CUS_NAME VARCHAR(20) NULL DEFAULT NULL, CUS_PHONE VARCHAR(10), CUS_CITY varchar(30) ,CUS_GENDER CHAR,PRIMARY KEY (CUS_ID))\n",
        "\n",
        "\n",
        "- **`category`** (CAT_ID INT NOT NULL, CAT_NAME VARCHAR(20) NULL DEFAULT NULL,PRIMARY KEY (CAT_ID))\n",
        "\n",
        "\n",
        "- **`product`** (PRO_ID INT NOT NULL, PRO_NAME VARCHAR(20) NULL DEFAULT NULL, PRO_DESC VARCHAR(60) NULL DEFAULT NULL, CAT_ID INT NOT NULL,PRIMARY KEY (PRO_ID),FOREIGN KEY (CAT_ID) REFERENCES CATEGORY (CAT_ID))\n",
        "\n",
        "\n",
        "- **`product_details`** (PROD_ID INT NOT NULL, PRO_ID INT NOT NULL, SUPP_ID INT NOT NULL, PROD_PRICE INT NOT NULL,\n",
        "  PRIMARY KEY (PROD_ID),FOREIGN KEY (PRO_ID) REFERENCES PRODUCT (PRO_ID), FOREIGN KEY (SUPP_ID) REFERENCES SUPPLIER(SUPP_ID))\n",
        "  \n",
        "  \n",
        "- **`order`** (ORD_ID INT NOT NULL, ORD_AMOUNT INT NOT NULL, ORD_DATE DATE, CUS_ID INT NOT NULL, PROD_ID INT NOT NULL,PRIMARY KEY (ORD_ID),FOREIGN KEY (CUS_ID) REFERENCES CUSTOMER(CUS_ID),FOREIGN KEY (PROD_ID) REFERENCES PRODUCT_DETAILS(PROD_ID))\n",
        "\n",
        "\n",
        "- **`rating`** (RAT_ID INT NOT NULL, CUS_ID INT NOT NULL, SUPP_ID INT NOT NULL, RAT_RATSTARS INT NOT NULL,PRIMARY KEY (RAT_ID),FOREIGN KEY (SUPP_ID) REFERENCES SUPPLIER (SUPP_ID),FOREIGN KEY (CUS_ID) REFERENCES CUSTOMER(CUS_ID))"
      ]
    },
    {
      "cell_type": "code",
      "execution_count": 9,
      "id": "967b718f",
      "metadata": {
        "id": "967b718f"
      },
      "outputs": [
        {
          "name": "stdout",
          "output_type": "stream",
          "text": [
            "Table created successfully\n",
            "Table created successfully\n",
            "Table created successfully\n",
            "Table created successfully\n",
            "Table created successfully\n",
            "Table created successfully\n",
            "Table created successfully\n"
          ]
        }
      ],
      "source": [
        "config = {\n",
        "    'user': 'root',\n",
        "    'password': 'mysql@12357',  # Replace with your actual password\n",
        "    'host': '127.0.0.1',\n",
        "    'database': 'e_commerce',  # Specify the database here\n",
        "    'raise_on_warnings': True\n",
        "}\n",
        "conn = mysql.connector.connect(**config)\n",
        "\n",
        "cursor = conn.cursor()\n",
        "\n",
        "tables = [\n",
        "    \"\"\"CREATE TABLE supplier (\n",
        "        SUPP_ID INT PRIMARY KEY,\n",
        "        SUPP_NAME VARCHAR(50),\n",
        "        SUPP_CITY VARCHAR(50),\n",
        "        SUPP_PHONE VARCHAR(10)\n",
        "    )\"\"\",\n",
        "    \n",
        "    \"\"\"CREATE TABLE customer (\n",
        "        CUS_ID INT NOT NULL,\n",
        "        CUS_NAME VARCHAR(20) NULL DEFAULT NULL,\n",
        "        CUS_PHONE VARCHAR(10),\n",
        "        CUS_CITY VARCHAR(30),\n",
        "        CUS_GENDER CHAR,\n",
        "        PRIMARY KEY (CUS_ID)\n",
        "    )\"\"\",\n",
        "    \n",
        "    \"\"\"CREATE TABLE category (\n",
        "        CAT_ID INT NOT NULL,\n",
        "        CAT_NAME VARCHAR(20) NULL DEFAULT NULL,\n",
        "        PRIMARY KEY (CAT_ID)\n",
        "    )\"\"\",\n",
        "    \n",
        "    \"\"\"CREATE TABLE product (\n",
        "        PRO_ID INT NOT NULL,\n",
        "        PRO_NAME VARCHAR(20) NULL DEFAULT NULL,\n",
        "        PRO_DESC VARCHAR(60) NULL DEFAULT NULL,\n",
        "        CAT_ID INT NOT NULL,\n",
        "        PRIMARY KEY (PRO_ID),\n",
        "        FOREIGN KEY (CAT_ID) REFERENCES category (CAT_ID)\n",
        "    )\"\"\",\n",
        "    \n",
        "    \"\"\"CREATE TABLE product_details (\n",
        "        PROD_ID INT NOT NULL,\n",
        "        PRO_ID INT NOT NULL,\n",
        "        SUPP_ID INT NOT NULL,\n",
        "        PROD_PRICE INT NOT NULL,\n",
        "        PRIMARY KEY (PROD_ID),\n",
        "        FOREIGN KEY (PRO_ID) REFERENCES product (PRO_ID),\n",
        "        FOREIGN KEY (SUPP_ID) REFERENCES supplier(SUPP_ID)\n",
        "    )\"\"\",\n",
        "    \n",
        "    \"\"\"CREATE TABLE `order` (\n",
        "        ORD_ID INT NOT NULL,\n",
        "        ORD_AMOUNT INT NOT NULL,\n",
        "        ORD_DATE DATE,\n",
        "        CUS_ID INT NOT NULL,\n",
        "        PROD_ID INT NOT NULL,\n",
        "        PRIMARY KEY (ORD_ID),\n",
        "        FOREIGN KEY (CUS_ID) REFERENCES customer(CUS_ID),\n",
        "        FOREIGN KEY (PROD_ID) REFERENCES product_details(PROD_ID)\n",
        "    )\"\"\",\n",
        "    \n",
        "    \"\"\"CREATE TABLE rating (\n",
        "        RAT_ID INT NOT NULL,\n",
        "        CUS_ID INT NOT NULL,\n",
        "        SUPP_ID INT NOT NULL,\n",
        "        RAT_RATSTARS INT NOT NULL,\n",
        "        PRIMARY KEY (RAT_ID),\n",
        "        FOREIGN KEY (SUPP_ID) REFERENCES supplier (SUPP_ID),\n",
        "        FOREIGN KEY (CUS_ID) REFERENCES customer(CUS_ID)\n",
        "    )\"\"\"\n",
        "]\n",
        "\n",
        "for table in tables:\n",
        "    cursor.execute(table)\n",
        "    print(f\"Table created successfully\")\n",
        "\n",
        "conn.commit()\n",
        "\n",
        "cursor = conn.cursor()"
      ]
    },
    {
      "cell_type": "markdown",
      "id": "1f653731",
      "metadata": {
        "id": "1f653731"
      },
      "source": [
        "### Q2. Insert the following data in the table created above\n",
        "#### `Note:` If you are getting any error while inserting the data into tables, Kindly close the connection and reconnect\n",
        "\n",
        "#### Table:  supplier\n",
        "| SUPP_ID | SUPP_NAME | SUPP_CITY | SUPP_PHONE |\n",
        "| --- | --- | --- | --- |\n",
        "| 1 | Rajesh Retails | Delhi | 1234567890 |\n",
        "| 2 | Appario Ltd. | Mumbai | 258963147032 |\n",
        "| 3 | Knome products | Bangalore | 9785462315 |\n",
        "| 4 | Bansal Retails | Kochi | 8975463285 |\n",
        "| 5 | Mittal Ltd. | Lucknow | 7898456532 |"
      ]
    },
    {
      "cell_type": "code",
      "execution_count": 10,
      "id": "f6dddd07",
      "metadata": {
        "id": "f6dddd07"
      },
      "outputs": [
        {
          "name": "stdout",
          "output_type": "stream",
          "text": [
            "Data inserted into supplier table\n"
          ]
        }
      ],
      "source": [
        "# insert into \"supplier\" table\n",
        "cursor.execute(\"\"\"\n",
        "INSERT INTO supplier VALUES\n",
        "(1, 'Rajesh Retails', 'Delhi', '1234567890'),\n",
        "(2, 'Appario Ltd.', 'Mumbai', '2589631470'),\n",
        "(3, 'Knome products', 'Bangalore', '9785462315'),\n",
        "(4, 'Bansal Retails', 'Kochi', '8975463285'),\n",
        "(5, 'Mittal Ltd.', 'Lucknow', '7898456532')\n",
        "\"\"\")\n",
        "conn.commit()\n",
        "print(\"Data inserted into supplier table\")"
      ]
    },
    {
      "cell_type": "markdown",
      "id": "e8a070a6",
      "metadata": {
        "id": "e8a070a6"
      },
      "source": [
        "#### Table:  customer\n",
        "| CUS_ID | CUS_NAME | SUPP_PHONE | CUS_CITY | CUS_GENDER\n",
        "| --- | --- | --- | --- | --- |\n",
        "| 1 | AAKASH | 9999999999 | DELHI | M |\n",
        "| 2 | AMAN | 9785463215 | NOIDA | M |\n",
        "| 3 | NEHA | 9999999998 | MUMBAI | F |\n",
        "| 4 | MEGHA | 9994562399 | KOLKATA | F |\n",
        "| 5 | PULKIT | 7895999999 | LUCKNOW | M |"
      ]
    },
    {
      "cell_type": "code",
      "execution_count": 11,
      "id": "15a4ee87",
      "metadata": {
        "id": "15a4ee87"
      },
      "outputs": [
        {
          "name": "stdout",
          "output_type": "stream",
          "text": [
            "Data inserted into customer table\n"
          ]
        }
      ],
      "source": [
        "# insert into \"customer\" table\n",
        "cursor.execute(\"\"\"\n",
        "INSERT INTO customer VALUES\n",
        "(1, 'AAKASH', '9999999999', 'DELHI', 'M'),\n",
        "(2, 'AMAN', '9785463215', 'NOIDA', 'M'),\n",
        "(3, 'NEHA', '9999999998', 'MUMBAI', 'F'),\n",
        "(4, 'MEGHA', '9994562399', 'KOLKATA', 'F'),\n",
        "(5, 'PULKIT', '7895999999', 'LUCKNOW', 'M')\n",
        "\"\"\")\n",
        "conn.commit()\n",
        "print(\"Data inserted into customer table\")"
      ]
    },
    {
      "cell_type": "markdown",
      "id": "b68bfbc2",
      "metadata": {
        "id": "b68bfbc2"
      },
      "source": [
        "#### Table:  category\n",
        "| CAT_ID | CAT_NAME |\n",
        "| --- | --- |  \n",
        "| 1 | BOOKS |\n",
        "| 2 | GAMES |  \n",
        "| 3 | GROCERIES |\n",
        "| 4 | ELECTRONICS |\n",
        "| 5 | CLOTHES |"
      ]
    },
    {
      "cell_type": "code",
      "execution_count": 12,
      "id": "05a00abc",
      "metadata": {
        "id": "05a00abc"
      },
      "outputs": [
        {
          "name": "stdout",
          "output_type": "stream",
          "text": [
            "Data inserted into category table\n"
          ]
        }
      ],
      "source": [
        "# insert into \"categoty\" table\n",
        "cursor.execute(\"\"\"\n",
        "INSERT INTO category VALUES\n",
        "(1, 'BOOKS'),\n",
        "(2, 'GAMES'),\n",
        "(3, 'GROCERIES'),\n",
        "(4, 'ELECTRONICS'),\n",
        "(5, 'CLOTHES')\n",
        "\"\"\")\n",
        "conn.commit()\n",
        "print(\"Data inserted into category table\")"
      ]
    },
    {
      "cell_type": "markdown",
      "id": "eb3bc592",
      "metadata": {
        "id": "eb3bc592"
      },
      "source": [
        "#### Table:  product\n",
        "| PRO_ID | PRO_NAME | PRO_DESC | CAT_ID |\n",
        "| --- | --- | --- | --- |\n",
        "| 1 | GTA V | DFJDJFDJFDJFDJFJF | 2 |\n",
        "| 2 | TSHIRT | DFDFJDFJDKFD | 5 |\n",
        "| 3 | ROG LAPTOP | DFNTTNTNTERND | 4 |\n",
        "| 4 | OATS | REURENTBTOTH | 3 |\n",
        "| 5 | HARRY POTTER | NBEMCTHTJTH | 1 |\n"
      ]
    },
    {
      "cell_type": "code",
      "execution_count": 13,
      "id": "cdfbdfad",
      "metadata": {
        "id": "cdfbdfad"
      },
      "outputs": [
        {
          "name": "stdout",
          "output_type": "stream",
          "text": [
            "Data inserted into product table\n"
          ]
        }
      ],
      "source": [
        "# insert into \"product\" table\n",
        "cursor.execute(\"\"\"\n",
        "INSERT INTO product VALUES\n",
        "(1, 'GTA V', 'DFJDJFDJFDJFDJFJF', 2),\n",
        "(2, 'TSHIRT', 'DFDFJDFJDKFD', 5),\n",
        "(3, 'ROG LAPTOP', 'DFNTTNTNTERND', 4),\n",
        "(4, 'OATS', 'REURENTBTOTH', 3),\n",
        "(5, 'HARRY POTTER', 'NBEMCTHTJTH', 1)\n",
        "\"\"\")\n",
        "conn.commit()\n",
        "print(\"Data inserted into product table\")"
      ]
    },
    {
      "cell_type": "markdown",
      "id": "cfa8a47d",
      "metadata": {
        "id": "cfa8a47d"
      },
      "source": [
        "#### Table:  product_details\n",
        "| PROD_ID | PRO_ID | SUPP_ID | PROD_PRICE |\n",
        "| --- | --- | --- | --- |\n",
        "| 1 | 1 | 2 | 1500 |\n",
        "| 2 | 3 | 5 | 30000 |\n",
        "| 3 | 5 | 1 | 3000 |\n",
        "| 4 | 2 | 3 | 2500 |\n",
        "| 5 | 4 | 1 | 1000 |"
      ]
    },
    {
      "cell_type": "code",
      "execution_count": 14,
      "id": "c18ea964",
      "metadata": {
        "id": "c18ea964"
      },
      "outputs": [
        {
          "name": "stdout",
          "output_type": "stream",
          "text": [
            "Data inserted into product_details table\n"
          ]
        }
      ],
      "source": [
        "# insert into \"product_details\" table\n",
        "cursor.execute(\"\"\"\n",
        "INSERT INTO product_details VALUES\n",
        "(1, 1, 2, 1500),\n",
        "(2, 3, 5, 30000),\n",
        "(3, 5, 1, 3000),\n",
        "(4, 2, 3, 2500),\n",
        "(5, 4, 1, 1000)\n",
        "\"\"\")\n",
        "conn.commit()\n",
        "print(\"Data inserted into product_details table\")"
      ]
    },
    {
      "cell_type": "markdown",
      "id": "1df49086",
      "metadata": {
        "id": "1df49086"
      },
      "source": [
        "#### Table:  orders\n",
        "| ORD_ID | ORD_AMOUNT | ORD_DATE | CUS_ID | PROD_ID\n",
        "| --- | --- | --- | --- | --- |\n",
        "| 20 | 1500 | 2021-10-12 | 3 | 5 |\n",
        "| 25 | 30500 | 2021-09-16 | 5 | 2 |\n",
        "| 26 | 2000 | 2021-10-05 | 1 | 1 |\n",
        "| 30 | 3500 | 2021-08-16 | 4 | 3 |\n",
        "| 50 | 2000 | 2021-10-06 | 2 | 1 |"
      ]
    },
    {
      "cell_type": "code",
      "execution_count": 15,
      "id": "0d97dc92",
      "metadata": {
        "id": "0d97dc92"
      },
      "outputs": [
        {
          "name": "stdout",
          "output_type": "stream",
          "text": [
            "Data inserted into order table\n"
          ]
        }
      ],
      "source": [
        "# insert into \"orders\" table\n",
        "cursor.execute(\"\"\"\n",
        "INSERT INTO `order` VALUES\n",
        "(20, 1500, '2021-10-12', 3, 5),\n",
        "(25, 30500, '2021-09-16', 5, 2),\n",
        "(26, 2000, '2021-10-05', 1, 1),\n",
        "(30, 3500, '2021-08-16', 4, 3),\n",
        "(50, 2000, '2021-10-06', 2, 1)\n",
        "\"\"\")\n",
        "conn.commit()\n",
        "print(\"Data inserted into order table\")"
      ]
    },
    {
      "cell_type": "markdown",
      "id": "75b8ce5f",
      "metadata": {
        "id": "75b8ce5f"
      },
      "source": [
        "#### Table: rating\n",
        "| RAT_ID | CUS_ID | SUPP_ID | RAT_RATSTARS |\n",
        "| --- | --- | --- | --- |\n",
        "| 1 | 2 | 2 | 4 |\n",
        "| 2 | 3 | 4 | 3 |\n",
        "| 3 | 5 | 1 | 5 |\n",
        "| 4 | 1 | 3 | 2 |\n",
        "| 5 | 4 | 5 | 4 |"
      ]
    },
    {
      "cell_type": "code",
      "execution_count": 16,
      "id": "6d5f1e18",
      "metadata": {
        "id": "6d5f1e18"
      },
      "outputs": [
        {
          "name": "stdout",
          "output_type": "stream",
          "text": [
            "Data inserted into rating table\n"
          ]
        }
      ],
      "source": [
        "# insert into \"rating\" table\n",
        "cursor.execute(\"\"\"\n",
        "INSERT INTO rating VALUES\n",
        "(1, 2, 2, 4),\n",
        "(2, 3, 4, 3),\n",
        "(3, 5, 1, 5),\n",
        "(4, 1, 3, 2),\n",
        "(5, 4, 5, 4)\n",
        "\"\"\")\n",
        "conn.commit()\n",
        "print(\"Data inserted into rating table\")\n"
      ]
    },
    {
      "cell_type": "markdown",
      "id": "b59361c3",
      "metadata": {
        "id": "b59361c3"
      },
      "source": [
        "### Q3) Display the number of the customer group by their genders who have placed any order of amount greater than or equal to Rs.3000."
      ]
    },
    {
      "cell_type": "code",
      "execution_count": 17,
      "id": "fcafaf3c",
      "metadata": {
        "id": "fcafaf3c"
      },
      "outputs": [
        {
          "name": "stdout",
          "output_type": "stream",
          "text": [
            "Gender | Customer Count\n",
            "-------|----------------\n",
            "F      |               1\n",
            "M      |               1\n"
          ]
        }
      ],
      "source": [
        "query = \"\"\"\n",
        "SELECT c.CUS_GENDER, COUNT(DISTINCT c.CUS_ID) as CustomerCount\n",
        "FROM customer c\n",
        "JOIN `order` o ON c.CUS_ID = o.CUS_ID\n",
        "WHERE o.ORD_AMOUNT >= 3000\n",
        "GROUP BY c.CUS_GENDER\n",
        "\"\"\"\n",
        "\n",
        "cursor.execute(query)\n",
        "\n",
        "results = cursor.fetchall()\n",
        "\n",
        "print(\"Gender | Customer Count\")\n",
        "print(\"-------|----------------\")\n",
        "for (gender, count) in results:\n",
        "    print(f\"{gender:6} | {count:15}\")"
      ]
    },
    {
      "cell_type": "markdown",
      "id": "e49e04f5",
      "metadata": {
        "id": "e49e04f5"
      },
      "source": [
        "### Q4) Display all the order along with product name ordered by a customer having Customer_Id=2;"
      ]
    },
    {
      "cell_type": "code",
      "execution_count": 18,
      "id": "9dcb7883",
      "metadata": {
        "id": "9dcb7883"
      },
      "outputs": [
        {
          "name": "stdout",
          "output_type": "stream",
          "text": [
            "Order ID | Order Amount | Order Date | Product Name\n",
            "---------|--------------|------------|-------------\n",
            "      50 |         2000 | 2021-10-06 | GTA V\n"
          ]
        }
      ],
      "source": [
        "query = \"\"\"\n",
        "SELECT o.ORD_ID, o.ORD_AMOUNT, o.ORD_DATE, p.PRO_NAME\n",
        "FROM `order` o\n",
        "JOIN product_details pd ON o.PROD_ID = pd.PROD_ID\n",
        "JOIN product p ON pd.PRO_ID = p.PRO_ID\n",
        "WHERE o.CUS_ID = 2\n",
        "\"\"\"\n",
        "\n",
        "cursor.execute(query)\n",
        "\n",
        "results = cursor.fetchall()\n",
        "\n",
        "print(\"Order ID | Order Amount | Order Date | Product Name\")\n",
        "print(\"---------|--------------|------------|-------------\")\n",
        "for (ord_id, ord_amount, ord_date, pro_name) in results:\n",
        "    print(f\"{ord_id:8} | {ord_amount:12} | {ord_date} | {pro_name}\")"
      ]
    },
    {
      "cell_type": "markdown",
      "id": "3a33398e",
      "metadata": {
        "id": "3a33398e"
      },
      "source": [
        "### Q5) Display the Supplier details who can supply more than one product."
      ]
    },
    {
      "cell_type": "code",
      "execution_count": 19,
      "id": "e933b979",
      "metadata": {
        "id": "e933b979"
      },
      "outputs": [
        {
          "name": "stdout",
          "output_type": "stream",
          "text": [
            "Supplier ID | Supplier Name | Supplier City | Supplier Phone | Product Count\n",
            "------------|---------------|---------------|----------------|---------------\n",
            "          1 | Rajesh Retails | Delhi         | 1234567890     |              2\n"
          ]
        }
      ],
      "source": [
        "query = \"\"\"\n",
        "SELECT s.SUPP_ID, s.SUPP_NAME, s.SUPP_CITY, s.SUPP_PHONE, COUNT(DISTINCT pd.PRO_ID) as product_count\n",
        "FROM supplier s\n",
        "JOIN product_details pd ON s.SUPP_ID = pd.SUPP_ID\n",
        "GROUP BY s.SUPP_ID\n",
        "HAVING product_count > 1\n",
        "\"\"\"\n",
        "\n",
        "cursor.execute(query)\n",
        "\n",
        "# Fetch all the results\n",
        "results = cursor.fetchall()\n",
        "\n",
        "# Display the results\n",
        "print(\"Supplier ID | Supplier Name | Supplier City | Supplier Phone | Product Count\")\n",
        "print(\"------------|---------------|---------------|----------------|---------------\")\n",
        "for (supp_id, supp_name, supp_city, supp_phone, product_count) in results:\n",
        "    print(f\"{supp_id:11} | {supp_name:13} | {supp_city:13} | {supp_phone:14} | {product_count:14}\")\n"
      ]
    },
    {
      "cell_type": "markdown",
      "id": "5fd319ef",
      "metadata": {
        "id": "5fd319ef"
      },
      "source": [
        "### Q6) Find the category of the product whose order amount is minimum."
      ]
    },
    {
      "cell_type": "code",
      "execution_count": 20,
      "id": "06f5cb51",
      "metadata": {
        "id": "06f5cb51"
      },
      "outputs": [
        {
          "name": "stdout",
          "output_type": "stream",
          "text": [
            "Category of the product with minimum order amount:\n",
            "Category ID: 3\n",
            "Category Name: GROCERIES\n"
          ]
        }
      ],
      "source": [
        "query = \"\"\"\n",
        "SELECT c.CAT_ID, c.CAT_NAME\n",
        "FROM category c\n",
        "JOIN product p ON c.CAT_ID = p.CAT_ID\n",
        "JOIN product_details pd ON p.PRO_ID = pd.PRO_ID\n",
        "JOIN `order` o ON pd.PROD_ID = o.PROD_ID\n",
        "WHERE o.ORD_AMOUNT = (\n",
        "    SELECT MIN(ORD_AMOUNT)\n",
        "    FROM `order`\n",
        ")\n",
        "\"\"\"\n",
        "\n",
        "cursor.execute(query)\n",
        "\n",
        "result = cursor.fetchone()\n",
        "\n",
        "if result:\n",
        "    cat_id, cat_name = result\n",
        "    print(f\"Category of the product with minimum order amount:\")\n",
        "    print(f\"Category ID: {cat_id}\")\n",
        "    print(f\"Category Name: {cat_name}\")\n",
        "else:\n",
        "    print(\"No result found.\")"
      ]
    },
    {
      "cell_type": "markdown",
      "id": "107102d4",
      "metadata": {
        "id": "107102d4"
      },
      "source": [
        "### Q7) Display the Id and Name of the Product ordered after “2021-10-05”."
      ]
    },
    {
      "cell_type": "code",
      "execution_count": 21,
      "id": "5d3fc7e8",
      "metadata": {
        "id": "5d3fc7e8"
      },
      "outputs": [
        {
          "name": "stdout",
          "output_type": "stream",
          "text": [
            "Product ID | Product Name\n",
            "-----------|-------------\n",
            "         1 | GTA V\n",
            "         4 | OATS\n"
          ]
        }
      ],
      "source": [
        "query = \"\"\"\n",
        "SELECT DISTINCT p.PRO_ID, p.PRO_NAME\n",
        "FROM product p\n",
        "JOIN product_details pd ON p.PRO_ID = pd.PRO_ID\n",
        "JOIN `order` o ON pd.PROD_ID = o.PROD_ID\n",
        "WHERE o.ORD_DATE > '2021-10-05'\n",
        "ORDER BY p.PRO_ID\n",
        "\"\"\"\n",
        "\n",
        "cursor.execute(query)\n",
        "\n",
        "results = cursor.fetchall()\n",
        "\n",
        "print(\"Product ID | Product Name\")\n",
        "print(\"-----------|-------------\")\n",
        "for (pro_id, pro_name) in results:\n",
        "    print(f\"{pro_id:10} | {pro_name}\")"
      ]
    },
    {
      "cell_type": "markdown",
      "id": "bdce7167",
      "metadata": {
        "id": "bdce7167"
      },
      "source": [
        "### Q8) Print the top 3 supplier name and id and rating on the basis of their rating along with the customer name who has given the rating."
      ]
    },
    {
      "cell_type": "code",
      "execution_count": 22,
      "id": "fa0cbe44",
      "metadata": {
        "id": "fa0cbe44"
      },
      "outputs": [
        {
          "name": "stdout",
          "output_type": "stream",
          "text": [
            "Supplier ID | Supplier Name | Rating | Customer Name\n",
            "------------|---------------|--------|---------------\n",
            "          1 | Rajesh Retails |      5 | PULKIT\n",
            "          2 | Appario Ltd.  |      4 | AMAN\n",
            "          5 | Mittal Ltd.   |      4 | MEGHA\n"
          ]
        }
      ],
      "source": [
        "query = \"\"\"\n",
        "SELECT s.SUPP_ID, s.SUPP_NAME, r.RAT_RATSTARS, c.CUS_NAME\n",
        "FROM supplier s\n",
        "JOIN rating r ON s.SUPP_ID = r.SUPP_ID\n",
        "JOIN customer c ON r.CUS_ID = c.CUS_ID\n",
        "ORDER BY r.RAT_RATSTARS DESC\n",
        "LIMIT 3\n",
        "\"\"\"\n",
        "\n",
        "cursor.execute(query)\n",
        "\n",
        "results = cursor.fetchall()\n",
        "\n",
        "print(\"Supplier ID | Supplier Name | Rating | Customer Name\")\n",
        "print(\"------------|---------------|--------|---------------\")\n",
        "for (supp_id, supp_name, rating, cus_name) in results:\n",
        "    print(f\"{supp_id:11} | {supp_name:13} | {rating:6} | {cus_name}\")"
      ]
    },
    {
      "cell_type": "markdown",
      "id": "346ec2a1",
      "metadata": {
        "id": "346ec2a1"
      },
      "source": [
        "### Q9) Display customer name and gender whose names start or end with character 'A'."
      ]
    },
    {
      "cell_type": "code",
      "execution_count": 24,
      "id": "e571b5fd",
      "metadata": {
        "id": "e571b5fd"
      },
      "outputs": [
        {
          "name": "stdout",
          "output_type": "stream",
          "text": [
            "Customer Name | Gender\n",
            "--------------|-------\n",
            "AAKASH         | M\n",
            "AMAN           | M\n",
            "NEHA           | F\n",
            "MEGHA          | F\n"
          ]
        }
      ],
      "source": [
        "query = \"\"\"\n",
        "SELECT CUS_NAME, CUS_GENDER\n",
        "FROM customer\n",
        "WHERE CUS_NAME LIKE 'A%' OR CUS_NAME LIKE '%A'\n",
        "\"\"\"\n",
        "\n",
        "cursor.execute(query)\n",
        "\n",
        "results = cursor.fetchall()\n",
        "\n",
        "print(\"Customer Name | Gender\")\n",
        "print(\"--------------|-------\")\n",
        "for (cus_name, cus_gender) in results:\n",
        "    print(f\"{cus_name:14} | {cus_gender}\")"
      ]
    },
    {
      "cell_type": "markdown",
      "id": "d0b01f77",
      "metadata": {
        "id": "d0b01f77"
      },
      "source": [
        "### Q10) Display the total order amount of the male customers."
      ]
    },
    {
      "cell_type": "code",
      "execution_count": 25,
      "id": "c3fa76e3",
      "metadata": {
        "id": "c3fa76e3"
      },
      "outputs": [
        {
          "name": "stdout",
          "output_type": "stream",
          "text": [
            "Total Order Amount for Male Customers: Rs. 34500\n"
          ]
        }
      ],
      "source": [
        "query = \"\"\"\n",
        "SELECT SUM(o.ORD_AMOUNT) as TotalOrderAmount\n",
        "FROM `order` o\n",
        "JOIN customer c ON o.CUS_ID = c.CUS_ID\n",
        "WHERE c.CUS_GENDER = 'M'\n",
        "\"\"\"\n",
        "\n",
        "cursor.execute(query)\n",
        "\n",
        "result = cursor.fetchone()\n",
        "\n",
        "if result[0] is not None:\n",
        "    print(f\"Total Order Amount for Male Customers: Rs. {result[0]}\")\n",
        "else:\n",
        "    print(\"No orders found for male customers.\")"
      ]
    },
    {
      "cell_type": "markdown",
      "id": "ff8a9971",
      "metadata": {
        "id": "ff8a9971"
      },
      "source": [
        "### Q11) Display all the Customers left outer join with  the orders"
      ]
    },
    {
      "cell_type": "code",
      "execution_count": 26,
      "id": "a340c6d6",
      "metadata": {
        "id": "a340c6d6"
      },
      "outputs": [
        {
          "name": "stdout",
          "output_type": "stream",
          "text": [
            "CUS_ID | CUS_NAME | CUS_PHONE  | CUS_CITY | CUS_GENDER | ORD_ID | ORD_AMOUNT | ORD_DATE\n",
            "-------|----------|------------|----------|------------|--------|------------|----------\n",
            "     1 | AAKASH   | 9999999999 | DELHI    | M          |     26 |       2000 | 2021-10-05\n",
            "     2 | AMAN     | 9785463215 | NOIDA    | M          |     50 |       2000 | 2021-10-06\n",
            "     3 | NEHA     | 9999999998 | MUMBAI   | F          |     20 |       1500 | 2021-10-12\n",
            "     4 | MEGHA    | 9994562399 | KOLKATA  | F          |     30 |       3500 | 2021-08-16\n",
            "     5 | PULKIT   | 7895999999 | LUCKNOW  | M          |     25 |      30500 | 2021-09-16\n"
          ]
        }
      ],
      "source": [
        "query = \"\"\"\n",
        "SELECT c.CUS_ID, c.CUS_NAME, c.CUS_PHONE, c.CUS_CITY, c.CUS_GENDER,\n",
        "       o.ORD_ID, o.ORD_AMOUNT, o.ORD_DATE\n",
        "FROM customer c\n",
        "LEFT JOIN `order` o ON c.CUS_ID = o.CUS_ID\n",
        "ORDER BY c.CUS_ID, o.ORD_ID\n",
        "\"\"\"\n",
        "\n",
        "cursor.execute(query)\n",
        "\n",
        "# Fetch all the results\n",
        "results = cursor.fetchall()\n",
        "\n",
        "# Display the results\n",
        "print(\"CUS_ID | CUS_NAME | CUS_PHONE  | CUS_CITY | CUS_GENDER | ORD_ID | ORD_AMOUNT | ORD_DATE\")\n",
        "print(\"-------|----------|------------|----------|------------|--------|------------|----------\")\n",
        "for row in results:\n",
        "    cus_id, cus_name, cus_phone, cus_city, cus_gender, ord_id, ord_amount, ord_date = row\n",
        "    ord_id = ord_id if ord_id else \"NULL\"\n",
        "    ord_amount = ord_amount if ord_amount else \"NULL\"\n",
        "    ord_date = ord_date if ord_date else \"NULL\"\n",
        "    print(f\"{cus_id:6} | {cus_name:8} | {cus_phone:10} | {cus_city:8} | {cus_gender:10} | {ord_id:6} | {ord_amount:10} | {ord_date}\")\n",
        "\n",
        "# Close the cursor and connection\n",
        "cursor.close()\n",
        "conn.close()"
      ]
    },
    {
      "cell_type": "markdown",
      "id": "0a72afe3",
      "metadata": {
        "id": "0a72afe3"
      },
      "source": [
        "**NOTE:** Always close an open connection once you are done with the database operations"
      ]
    },
    {
      "cell_type": "markdown",
      "id": "8c88f479",
      "metadata": {
        "id": "8c88f479"
      },
      "source": [
        "## Happy Learning:)"
      ]
    }
  ],
  "metadata": {
    "colab": {
      "provenance": []
    },
    "kernelspec": {
      "display_name": "Python 3 (ipykernel)",
      "language": "python",
      "name": "python3"
    },
    "language_info": {
      "codemirror_mode": {
        "name": "ipython",
        "version": 3
      },
      "file_extension": ".py",
      "mimetype": "text/x-python",
      "name": "python",
      "nbconvert_exporter": "python",
      "pygments_lexer": "ipython3",
      "version": "3.12.4"
    }
  },
  "nbformat": 4,
  "nbformat_minor": 5
}
